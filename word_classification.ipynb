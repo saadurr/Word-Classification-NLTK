{
 "cells": [
  {
   "cell_type": "code",
   "execution_count": 1,
   "metadata": {},
   "outputs": [],
   "source": [
    "import nltk"
   ]
  },
  {
   "cell_type": "code",
   "execution_count": 6,
   "metadata": {},
   "outputs": [],
   "source": [
    "from nltk.tokenize import sent_tokenize\n",
    "from nltk.tokenize import word_tokenize\n",
    "from nltk.tokenize import sent_tokenize\n",
    "import matplotlib.pyplot as plt\n",
    "nltk.download('stopwords')\n",
    "from nltk.corpus import stopwords\n",
    "from nltk.probability import FreqDist"
   ]
  },
  {
   "cell_type": "code",
   "execution_count": 7,
   "metadata": {},
   "outputs": [
    {
     "name": "stdout",
     "output_type": "stream",
     "text": [
      "['We had lunch here a few times while on the island visiting family and friends.', 'The servers here are just wonderful and have great memories it seems.', 'We sat on the ocean front patio and enjoyed the view with our delicious wine and lunch.', 'Must try!']\n"
     ]
    }
   ],
   "source": [
    "\n",
    "Reviews='We had lunch here a few times while on the island visiting family and friends. The servers here are just wonderful and have great memories it seems. We sat on the ocean front patio and enjoyed the view with our delicious wine and lunch. Must try!'\n",
    "\n",
    "tk_text=sent_tokenize(Reviews)\n",
    "print(tk_text)"
   ]
  },
  {
   "cell_type": "code",
   "execution_count": 8,
   "metadata": {},
   "outputs": [
    {
     "name": "stdout",
     "output_type": "stream",
     "text": [
      "['We', 'had', 'lunch', 'here', 'a', 'few', 'times', 'while', 'on', 'the', 'island', 'visiting', 'family', 'and', 'friends', '.', 'The', 'servers', 'here', 'are', 'just', 'wonderful', 'and', 'have', 'great', 'memories', 'it', 'seems', '.', 'We', 'sat', 'on', 'the', 'ocean', 'front', 'patio', 'and', 'enjoyed', 'the', 'view', 'with', 'our', 'delicious', 'wine', 'and', 'lunch', '.', 'Must', 'try', '!']\n"
     ]
    }
   ],
   "source": [
    "\n",
    "tk_word=word_tokenize(Reviews)\n",
    "print(tk_word)"
   ]
  },
  {
   "cell_type": "code",
   "execution_count": 9,
   "metadata": {},
   "outputs": [],
   "source": [
    "from nltk.probability import FreqDist\n",
    "freq_dist = FreqDist(tk_word)"
   ]
  },
  {
   "cell_type": "code",
   "execution_count": 10,
   "metadata": {},
   "outputs": [
    {
     "data": {
      "text/plain": [
       "FreqDist({'!': 1,\n",
       "          '.': 3,\n",
       "          'Must': 1,\n",
       "          'The': 1,\n",
       "          'We': 2,\n",
       "          'a': 1,\n",
       "          'and': 4,\n",
       "          'are': 1,\n",
       "          'delicious': 1,\n",
       "          'enjoyed': 1,\n",
       "          'family': 1,\n",
       "          'few': 1,\n",
       "          'friends': 1,\n",
       "          'front': 1,\n",
       "          'great': 1,\n",
       "          'had': 1,\n",
       "          'have': 1,\n",
       "          'here': 2,\n",
       "          'island': 1,\n",
       "          'it': 1,\n",
       "          'just': 1,\n",
       "          'lunch': 2,\n",
       "          'memories': 1,\n",
       "          'ocean': 1,\n",
       "          'on': 2,\n",
       "          'our': 1,\n",
       "          'patio': 1,\n",
       "          'sat': 1,\n",
       "          'seems': 1,\n",
       "          'servers': 1,\n",
       "          'the': 3,\n",
       "          'times': 1,\n",
       "          'try': 1,\n",
       "          'view': 1,\n",
       "          'visiting': 1,\n",
       "          'while': 1,\n",
       "          'wine': 1,\n",
       "          'with': 1,\n",
       "          'wonderful': 1})"
      ]
     },
     "execution_count": 10,
     "metadata": {},
     "output_type": "execute_result"
    }
   ],
   "source": [
    "freq_dist"
   ]
  },
  {
   "cell_type": "code",
   "execution_count": 11,
   "metadata": {},
   "outputs": [
    {
     "data": {
      "text/plain": [
       "<matplotlib.figure.Figure at 0x1dfad5f9860>"
      ]
     },
     "metadata": {},
     "output_type": "display_data"
    }
   ],
   "source": [
    "\n",
    "freq_dist.plot(20,cumulative=False)\n",
    "plt.show()"
   ]
  },
  {
   "cell_type": "code",
   "execution_count": 12,
   "metadata": {},
   "outputs": [
    {
     "name": "stdout",
     "output_type": "stream",
     "text": [
      "[nltk_data] Downloading package stopwords to C:\\Users\\Hina\n",
      "[nltk_data]     kamal\\AppData\\Roaming\\nltk_data...\n",
      "[nltk_data]   Package stopwords is already up-to-date!\n",
      "{'be', 'now', 'only', 'off', 'than', 'haven', 'themselves', 'your', 'needn', 'any', 'but', \"don't\", 'same', 'more', 'she', 'didn', 'few', 'am', 'there', 'couldn', 'ain', \"hasn't\", \"weren't\", 'if', \"you've\", 'yourself', \"haven't\", 'what', \"won't\", 'on', 'having', 'the', 'to', 'should', 'ourselves', 'their', 'which', 'itself', 'by', 'this', 'down', 'shan', 'both', 'so', 'her', 'aren', \"wasn't\", 'its', 'ma', 'a', 'as', \"didn't\", 'own', 'again', 'that', \"needn't\", 'yours', 'before', 'against', 'too', 'o', 've', 'he', 'me', 'all', 'in', 'other', 'my', 'through', 'ours', 'is', 'theirs', 'had', 're', \"she's\", 't', 'how', 'here', 'no', 'until', 'does', 'hers', 'out', 'whom', 'then', 'd', 'yourselves', 'wasn', 'don', 'can', 'once', 'some', 'during', \"should've\", 'mightn', \"mustn't\", \"it's\", 'such', 'weren', 'y', 'myself', 'of', 'just', 'into', 'most', 'below', 'nor', 'each', 'won', 'who', 'isn', 'doing', 'up', \"couldn't\", 'these', 'over', 'being', \"isn't\", 'those', 'it', 'an', \"aren't\", \"that'll\", 'himself', 'i', 'our', 'll', 'wouldn', 'about', \"hadn't\", 'do', 'for', \"you're\", 'or', 'why', 'very', 'will', 'hadn', 'hasn', \"you'll\", 'were', 'been', 'under', 'herself', \"doesn't\", 'shouldn', \"wouldn't\", 'after', 'when', 'we', 'are', 'because', 'him', 'with', 'doesn', 'not', 'they', \"you'd\", 'at', 'mustn', 'you', 'have', 'from', \"shouldn't\", 'and', 'where', 'has', 'did', 'm', 'between', \"mightn't\", 'was', 'above', 'his', 'further', 's', \"shan't\", 'them', 'while'}\n"
     ]
    }
   ],
   "source": [
    "\n",
    "\n",
    "stopword=set(stopwords.words(\"english\"))\n",
    "print(stopword)"
   ]
  },
  {
   "cell_type": "code",
   "execution_count": 14,
   "metadata": {},
   "outputs": [
    {
     "name": "stdout",
     "output_type": "stream",
     "text": [
      "Filtered Tokanized Sentence: ['We', 'had', 'lunch', 'here', 'a', 'few', 'times', 'while', 'on', 'the', 'island', 'visiting', 'family', 'and', 'friends', '.', 'The', 'servers', 'here', 'are', 'just', 'wonderful', 'and', 'have', 'great', 'memories', 'it', 'seems', '.', 'We', 'sat', 'on', 'the', 'ocean', 'front', 'patio', 'and', 'enjoyed', 'the', 'view', 'with', 'our', 'delicious', 'wine', 'and', 'lunch', '.', 'Must', 'try', '!']\n"
     ]
    }
   ],
   "source": [
    "sentnce=[]\n",
    "for w in tk_word:\n",
    "    if w not in stopword:\n",
    "        sentnce.append(w)\n",
    "print(\"Filtered Tokanized Sentence:\",tk_word)\n"
   ]
  },
  {
   "cell_type": "code",
   "execution_count": 15,
   "metadata": {},
   "outputs": [
    {
     "name": "stdout",
     "output_type": "stream",
     "text": [
      "Filterd Sentence: ['We', 'lunch', 'times', 'island', 'visiting', 'family', 'friends', '.', 'The', 'servers', 'wonderful', 'great', 'memories', 'seems', '.', 'We', 'sat', 'ocean', 'front', 'patio', 'enjoyed', 'view', 'delicious', 'wine', 'lunch', '.', 'Must', 'try', '!']\n"
     ]
    }
   ],
   "source": [
    "print(\"Filterd Sentence:\",sentnce)"
   ]
  },
  {
   "cell_type": "code",
   "execution_count": 16,
   "metadata": {},
   "outputs": [],
   "source": [
    "\n",
    "fdist = FreqDist(sentnce)"
   ]
  },
  {
   "cell_type": "code",
   "execution_count": 21,
   "metadata": {},
   "outputs": [
    {
     "data": {
      "image/png": "[encoded data removed]",
      "text/plain": [
       "<matplotlib.figure.Figure at 0x1dfaddf70b8>"
      ]
     },
     "metadata": {},
     "output_type": "display_data"
    }
   ],
   "source": [
    "\n",
    "fdist.plot(20,cumulative=False, color=\"Red\")\n",
    "plt.show()"
   ]
  },
  {
   "cell_type": "code",
   "execution_count": null,
   "metadata": {},
   "outputs": [],
   "source": []
  }
 ],
 "metadata": {
  "kernelspec": {
   "display_name": "Python 3",
   "language": "python",
   "name": "python3"
  },
  "language_info": {
   "codemirror_mode": {
    "name": "ipython",
    "version": 3
   },
   "file_extension": ".py",
   "mimetype": "text/x-python",
   "name": "python",
   "nbconvert_exporter": "python",
   "pygments_lexer": "ipython3",
   "version": "3.6.4"
  }
 },
 "nbformat": 4,
 "nbformat_minor": 2
}
